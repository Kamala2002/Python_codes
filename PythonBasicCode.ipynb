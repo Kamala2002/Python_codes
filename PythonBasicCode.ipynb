{
 "cells": [
  {
   "cell_type": "markdown",
   "metadata": {},
   "source": [
    "Transform text\n"
   ]
  },
  {
   "cell_type": "code",
   "execution_count": 2,
   "metadata": {},
   "outputs": [
    {
     "name": "stdout",
     "output_type": "stream",
     "text": [
      "The Moon is drifting away from the Earth. On average, the Moon is moving about 4cm every year.\n"
     ]
    }
   ],
   "source": [
    "#Join\n",
    "moon_facts = [\"The Moon is drifting away from the Earth.\", \"On average, the Moon is moving about 4cm every year.\"]\n",
    "print(' '.join(moon_facts))\n"
   ]
  },
  {
   "cell_type": "code",
   "execution_count": 3,
   "metadata": {},
   "outputs": [
    {
     "name": "stdout",
     "output_type": "stream",
     "text": [
      "['Interesting facts about the Moon', \" The Moon is Earth's only satellite\", ' There are several interesting facts about the Moon and how it affects life here on Earth', ' On average, the Moon moves 4cm away from the Earth every year', ' This yearly drift is not significant enough to cause immediate effects on Earth', ' The highest daylight temperature of the Moon is 127 C', '']\n"
     ]
    }
   ],
   "source": [
    "#Split\n",
    "text = \"\"\"Interesting facts about the Moon. The Moon is Earth's only satellite. There are several interesting facts about the Moon and how it affects life here on Earth. On average, the Moon moves 4cm away from the Earth every year. This yearly drift is not significant enough to cause immediate effects on Earth. The highest daylight temperature of the Moon is 127 C.\"\"\"\n",
    "print(text.split('.'))\n"
   ]
  },
  {
   "cell_type": "markdown",
   "metadata": {},
   "source": [
    "String format in Python"
   ]
  },
  {
   "cell_type": "code",
   "execution_count": 9,
   "metadata": {},
   "outputs": [
    {
     "name": "stdout",
     "output_type": "stream",
     "text": [
      "On the Moon, you would weigh about 1/6 of your weight on Earth.\n",
      "21\n"
     ]
    }
   ],
   "source": [
    "#Percent sign (%) formatting\n",
    "mass_percentage = \"1/6\"\n",
    "print(\"On the Moon, you would weigh about %s of your weight on Earth.\" % mass_percentage)\n",
    "age = 21\n",
    "print(\"%i\" %age)"
   ]
  },
  {
   "cell_type": "code",
   "execution_count": 11,
   "metadata": {},
   "outputs": [
    {
     "name": "stdout",
     "output_type": "stream",
     "text": [
      "Both sides of the Moon get the same amount of sunlight, but only one side is seen from Earth because the Moon rotates around its own axis when it orbits Earth.\n",
      "one 1, Two 2\n"
     ]
    }
   ],
   "source": [
    "print(\"\"\"Both sides of the %s get the same amount of sunlight, but only one side is seen from %s because the %s rotates around its own axis when it orbits %s.\"\"\" % (\"Moon\", \"Earth\", \"Moon\", \"Earth\"))\n",
    "print(\"one %i, Two %s\" %(1, \"2\"))\n"
   ]
  },
  {
   "cell_type": "code",
   "execution_count": 18,
   "metadata": {},
   "outputs": [
    {
     "name": "stdout",
     "output_type": "stream",
     "text": [
      "On the Moon, you would weigh about 1 of your 1/6 weight on Earth.\n",
      "You are lighter on the Moon, because on the Moon you would weigh about 1/6 of your weight on Earth.\n",
      "You are lighter on the Moon, because on the Moon you would weigh about 1/6 of your weight on Earth.\n"
     ]
    }
   ],
   "source": [
    "#The format() method\n",
    "mass_percentage = \"1/6\"\n",
    "print(\"On the Moon, you would weigh about {1} of your {0} weight on Earth.\".format(mass_percentage, 1))\n",
    "\n",
    "mass_percentage = \"1/6\"\n",
    "print(\"\"\"You are lighter on the {0}, because on the {0} you would weigh about {1} of your weight on Earth.\"\"\".format(\"Moon\", mass_percentage))\n",
    "\n",
    "mass_percentage = \"1/6\"\n",
    "print(\"\"\"You are lighter on the {moon}, because on the {moon} you would weigh about {mass} of your weight on Earth.\"\"\".format(moon=\"Moon\", mass=mass_percentage))\n",
    "\n",
    "\n"
   ]
  },
  {
   "cell_type": "code",
   "execution_count": 20,
   "metadata": {},
   "outputs": [
    {
     "name": "stdout",
     "output_type": "stream",
     "text": [
      "On the Moon, you would weigh about 1/6 of your weight on Earth.\n",
      "your age 1\n"
     ]
    }
   ],
   "source": [
    "#About f-strings\n",
    "mass_percentage = \"1/6\"\n",
    "print(f\"On the Moon, you would weigh about {mass_percentage} of your weight on Earth.\")\n",
    "print(f\"your age {1}\")\n",
    "\n"
   ]
  },
  {
   "cell_type": "code",
   "execution_count": 21,
   "metadata": {},
   "outputs": [
    {
     "name": "stdout",
     "output_type": "stream",
     "text": [
      "16.7\n"
     ]
    }
   ],
   "source": [
    "#round\n",
    "print(round(100/6, 1))"
   ]
  },
  {
   "cell_type": "code",
   "execution_count": 23,
   "metadata": {},
   "outputs": [
    {
     "name": "stdout",
     "output_type": "stream",
     "text": [
      "Interesting Facts About The Moon\n",
      "Interesting Facts About The Moon\n"
     ]
    }
   ],
   "source": [
    "subject = \"interesting facts about the moon\"\n",
    "heading = f\"{subject.title()}\"\n",
    "print(heading)\n",
    "\n",
    "subject = \"interesting facts about the moon\"\n",
    "print(subject.title())\n"
   ]
  },
  {
   "cell_type": "code",
   "execution_count": 27,
   "metadata": {},
   "outputs": [
    {
     "name": "stdout",
     "output_type": "stream",
     "text": [
      "Gravity Facts about Ganymede\n",
      "-----------------------------\n",
      "Planet Name : Mars\n",
      "Gravity on Ganymede:1.43 m.s2\n"
     ]
    }
   ],
   "source": [
    "name = 'Ganymede'\n",
    "planet = 'Mars'\n",
    "gravity = '1.43'\n",
    "template = \"\"\"Gravity Facts about {name}\n",
    "-----------------------------\n",
    "Planet Name : {planet}\n",
    "Gravity on {name}:{gravity} m.s2\"\"\" \n",
    "print(template.format(name = name, planet = planet, gravity = gravity))\n"
   ]
  },
  {
   "cell_type": "code",
   "execution_count": 29,
   "metadata": {},
   "outputs": [
    {
     "name": "stdout",
     "output_type": "stream",
     "text": [
      "215\n",
      "215.3\n"
     ]
    }
   ],
   "source": [
    "# Convert strings to numbers\n",
    "demo_int = int('215')\n",
    "print(demo_int)\n",
    "\n",
    "demo_float = float('215.3')\n",
    "print(demo_float)\n"
   ]
  },
  {
   "cell_type": "code",
   "execution_count": 39,
   "metadata": {},
   "outputs": [
    {
     "name": "stdout",
     "output_type": "stream",
     "text": [
      "abs\n",
      "7\n",
      "Rounding\n",
      "1\n",
      "2\n",
      "4\n",
      "3\n"
     ]
    }
   ],
   "source": [
    "# Absolute values\n",
    "print(\"abs\")\n",
    "print(abs(19-26))\n",
    "\n",
    "# Rounding\n",
    "print(\"Rounding\")\n",
    "print(round(1.4))\n",
    "print(round(1.5))\n",
    "print(round(3.5))\n",
    "print(round(2.6))"
   ]
  },
  {
   "cell_type": "code",
   "execution_count": 42,
   "metadata": {},
   "outputs": [
    {
     "name": "stdout",
     "output_type": "stream",
     "text": [
      "13\n",
      "12\n"
     ]
    }
   ],
   "source": [
    "# Math library\n",
    "from math import ceil, floor \n",
    "round_up = ceil(12.5)\n",
    "print(round_up)\n",
    "round_down = floor(12.5)\n",
    "print(round_down)\n",
    "\n",
    "\n"
   ]
  },
  {
   "cell_type": "code",
   "execution_count": 1,
   "metadata": {},
   "outputs": [],
   "source": [
    "first_planet_input = input('Enter the distance from the sun for the first planet in km')\n",
    "second_planet_input = input('Enter the distance from the sun for the second planet in km')\n",
    "first_planet_input = int(first_planet_input)\n",
    "second_planet_input = int(second_planet_input)\n",
    "distance_km = first_planet_input - second_planet_input\n",
    "print(distance_km)\n"
   ]
  },
  {
   "cell_type": "markdown",
   "metadata": {},
   "source": [
    "List"
   ]
  },
  {
   "cell_type": "code",
   "execution_count": 16,
   "metadata": {},
   "outputs": [
    {
     "name": "stdout",
     "output_type": "stream",
     "text": [
      "['Mercury', 'Venus', 'Earth', 'Mars', 'Jupiter', 'Saturn', 'Uranus', 'Neptune']\n",
      "The first planet is Mercury\n",
      "The second planet is Venus\n",
      "The third planet is Earth\n",
      "Mars is also known as Red Planet\n",
      "8\n",
      "['Mercury', 'Venus', 'Earth', 'Red Planet', 'Jupiter', 'Saturn', 'Uranus', 'Neptune', 'Pluto']\n",
      "['Mercury', 'Venus', 'Earth', 'Red Planet', 'Jupiter', 'Saturn', 'Uranus', 'Neptune']\n",
      "['Mercury', 'Earth', 'Red Planet', 'Jupiter', 'Saturn', 'Uranus', 'Neptune']\n",
      "The last planet is Neptune\n",
      "The penultimate planet is Uranus\n",
      "3\n"
     ]
    }
   ],
   "source": [
    "#Create a list\n",
    "planets = [\"Mercury\", \"Venus\", \"Earth\", \"Mars\", \"Jupiter\", \"Saturn\", \"Uranus\", \"Neptune\"]\n",
    "print(planets)\n",
    "\n",
    "#Access list items by index\n",
    "planets = [\"Mercury\", \"Venus\", \"Earth\", \"Mars\", \"Jupiter\", \"Saturn\", \"Uranus\", \"Neptune\"]\n",
    "print(\"The first planet is\", planets[0])\n",
    "print(\"The second planet is\", planets[1])\n",
    "print(\"The third planet is\", planets[2])\n",
    "\n",
    "#change value\n",
    "planets = [\"Mercury\", \"Venus\", \"Earth\", \"Mars\", \"Jupiter\", \"Saturn\", \"Uranus\", \"Neptune\"]\n",
    "planets[3] = \"Red Planet\"\n",
    "print(\"Mars is also known as\", planets[3])\n",
    "\n",
    "\n",
    "# Determine the length of a list\n",
    "print(len(planets))\n",
    "\n",
    "#Add values to lists\n",
    "planets.append(\"Pluto\")\n",
    "print(planets)\n",
    "\n",
    "#Remove values from lists\n",
    "planets.pop()\n",
    "print(planets)\n",
    "\n",
    "#Remove values from lists using Index\n",
    "planets.pop(1)\n",
    "print(planets)\n",
    "\n",
    "\n",
    "#Use negative indexes\n",
    "print(\"The last planet is\", planets[-1])\n",
    "print(\"The penultimate planet is\", planets[-2])\n",
    "\n",
    "#Find a value in a list\n",
    "jupiter_index = planets.index(\"Jupiter\")\n",
    "print(jupiter_index)  "
   ]
  },
  {
   "cell_type": "code",
   "execution_count": 23,
   "metadata": {},
   "outputs": [
    {
     "name": "stdout",
     "output_type": "stream",
     "text": [
      "8\n",
      "9\n",
      "pluto\n",
      "===================\n",
      "124054 N\n",
      "46892.412000000004 N\n"
     ]
    }
   ],
   "source": [
    "planets = [\"Mercury\", \"Venus\", \"Earth\", \"Mars\", \"Jupiter\", \"Saturn\", \"Uranus\", \"Neptune\"]\n",
    "print(len(planets))\n",
    "planets.append(\"pluto\")\n",
    "print(len(planets))\n",
    "print(planets[-1])\n",
    "print(\"===================\")\n",
    "gravity_on_earth = 1.0\n",
    "gravity_on_the_mmon = 0.166\n",
    "gravity_on_planets = [0.378, 0.907, 1, 0.377, 2.36, 0.916, 0.889, 1.12]\n",
    "bus_weight = 124054\n",
    "print(bus_weight,\"N\")\n",
    "print(bus_weight * gravity_on_planets[0], \"N\")\n",
    "\n"
   ]
  },
  {
   "cell_type": "code",
   "execution_count": 53,
   "metadata": {},
   "outputs": [
    {
     "name": "stdout",
     "output_type": "stream",
     "text": [
      "0.377\n",
      "2.36\n",
      "['Mercury', 'Venus', 'Earth', 'Mars', 'Jupiter', 'Saturn', 'Uranus', 'Neptune', 'pluto']\n",
      "['Metis', 'Adrastea', 'Amalthea', 'Thebe', 'Io', 'Europa', 'Ganymede', 'Callisto']\n",
      "['Metis', 'Adrastea', 'Amalthea', 'Thebe', 'Io', 'Europa', 'Ganymede', 'Callisto']\n",
      "['Adrastea', 'Amalthea', 'Callisto', 'Europa', 'Ganymede', 'Io', 'Metis', 'Thebe']\n",
      "['Thebe', 'Metis', 'Io', 'Ganymede', 'Europa', 'Callisto', 'Amalthea', 'Adrastea']\n",
      "[6, 4, 3, 2, 1]\n",
      "[1, 2, 3, 4, 6]\n",
      "[3, 6, 4, 2, 1]\n"
     ]
    }
   ],
   "source": [
    "# Use min() and max() with lists\n",
    "print(min(gravity_on_planets))\n",
    "print(max(gravity_on_planets))\n",
    "\n",
    "# Manipulate list data\n",
    "#  Slice lists\n",
    "print(planets[0:9])\n",
    "\n",
    "# Join lists\n",
    "amalthea_group = [\"Metis\", \"Adrastea\", \"Amalthea\", \"Thebe\"]\n",
    "galilean_moons = [\"Io\", \"Europa\", \"Ganymede\", \"Callisto\"]\n",
    "\n",
    "join_list = amalthea_group + galilean_moons\n",
    "print(join_list)\n",
    "amalthea_group.extend(galilean_moons)\n",
    "print(amalthea_group) \n",
    "\n",
    "# Sort lists\n",
    "join_list.sort()\n",
    "print(join_list)\n",
    "join_list.sort(reverse=True)\n",
    "print(join_list)\n",
    "\n",
    "#sorted\n",
    "A = [1,2,4,6,3]\n",
    "Sort_Dec = sorted(A, reverse=True)\n",
    "print(Sort_Dec)\n",
    "sort_acs = sorted(A, reverse= False)\n",
    "print(sort_acs)\n",
    "\n",
    "#revered \n",
    "A.reverse()\n",
    "print(A)"
   ]
  },
  {
   "cell_type": "markdown",
   "metadata": {},
   "source": [
    "\n",
    "While loop"
   ]
  },
  {
   "cell_type": "code",
   "execution_count": 54,
   "metadata": {},
   "outputs": [],
   "source": [
    "# Create a `while` loop\n",
    "# new_planet = ''\n",
    "# planets = []\n",
    "# while new_planet.lower() != 'done':\n",
    "#     if new_planet:\n",
    "#         planets.append(new_planet)\n",
    "#     new_planet = input('Enter a new planet, or done if done')\n",
    "\n",
    "# print(planets)\n",
    "\n",
    "# For Loop\n",
    "# countdown = [4, 3, 2, 1, 0]\n",
    "# for number in countdown:\n",
    "#     print(number)\n",
    "# print(\"Blast off!! 🚀\")\n",
    "# print(\"======================\")\n",
    "from time import sleep\n",
    "\n",
    "countdown = [4, 3, 2, 1, 0]\n",
    "\n",
    "for number in countdown:\n",
    "    print(number)\n",
    "    sleep(1)  # Wait 1 second\n",
    "print(\"Blast off!! 🚀\")\n",
    "\n"
   ]
  },
  {
   "cell_type": "code",
   "execution_count": 1,
   "metadata": {},
   "outputs": [
    {
     "name": "stdout",
     "output_type": "stream",
     "text": [
      "4\n",
      "3\n",
      "2\n",
      "1\n",
      "0\n",
      "Blast off!! 🚀\n"
     ]
    }
   ],
   "source": [
    "from time import sleep\n",
    "\n",
    "countdown = [4, 3, 2, 1, 0]\n",
    "\n",
    "for number in countdown:\n",
    "    print(number)\n",
    "    sleep(1)  # Wait 1 second\n",
    "print(\"Blast off!! 🚀\")\n"
   ]
  },
  {
   "cell_type": "code",
   "execution_count": 2,
   "metadata": {},
   "outputs": [
    {
     "name": "stdout",
     "output_type": "stream",
     "text": [
      "Left: 1, Right: 2\n",
      "Left: 3, Right: 4\n",
      "Left: 5, Right: 6\n"
     ]
    }
   ],
   "source": [
    "# List of tuples\n",
    "turns = [(1, 2), (3, 4), (5, 6)]\n",
    "\n",
    "# Loop over the list and unpack each tuple\n",
    "for left, right in turns:\n",
    "    print(f\"Left: {left}, Right: {right}\")"
   ]
  },
  {
   "cell_type": "markdown",
   "metadata": {},
   "source": [
    "dictionary"
   ]
  },
  {
   "cell_type": "code",
   "execution_count": 19,
   "metadata": {},
   "outputs": [
    {
     "name": "stdout",
     "output_type": "stream",
     "text": [
      "{'name': 'Earth', 'moons': 1}\n",
      "None\n",
      "{'name': 'Makemake', 'moons': 1}\n",
      "{'name': 'Markare', 'moons': 1}\n",
      "{'name': 'Markare', 'moons': 1, 'orbitari_priod': 4333}\n",
      "{'name': 'Markare', 'moons': 1}\n",
      "{'name': 'Markare', 'moons': 1}\n",
      "{'name': 'Markare', 'moons': 1, 'diameter (km)': {'polar': 133709, 'equatorial': 14275}}\n",
      "Markare polar diameter: 133709\n"
     ]
    }
   ],
   "source": [
    "#creating Dectionary\n",
    "planet= {'name' : 'Earth', 'moons': 1}\n",
    "print(planet)\n",
    "\n",
    "#get value\n",
    "wibbe = planet.get('wibbe') # Returns None\n",
    "print(wibbe)\n",
    "\n",
    "# wibble = planet['wibble'] #Throws KeyError\n",
    "# print(wibble)\n",
    "\n",
    "#Modify dictionary values\n",
    "\n",
    "planet.update({'name' : 'Makemake'})\n",
    "print(planet)\n",
    "\n",
    "planet['name'] = 'Markare'\n",
    "print(planet)\n",
    "\n",
    "#Add and remove keys\n",
    "#Add\n",
    "planet['orbitari_priod'] = 4333\n",
    "print(planet)\n",
    "\n",
    "#remove\n",
    "planet.pop('orbitari_priod')\n",
    "print(planet)\n",
    "# del planet= deleting dect;\n",
    "print(planet)\n",
    "\n",
    "\n",
    "#Complex data types-nested dict\n",
    "planet['diameter (km)'] = {\n",
    "    'polar' : 133709,\n",
    "    'equatorial' : 14275\n",
    "}\n",
    "print(planet)\n",
    "\n",
    "print(f'{planet[\"name\"]} polar diameter: {planet[\"diameter (km)\"][\"polar\"]}')\n"
   ]
  },
  {
   "cell_type": "code",
   "execution_count": 26,
   "metadata": {},
   "outputs": [
    {
     "name": "stdout",
     "output_type": "stream",
     "text": [
      "october : 3.5cm\n",
      "november : 4.2cm\n",
      "december : 2.1cm\n",
      "{'october': 3.5, 'november': 4.2, 'december': 3.1}\n",
      "There was 10.8cm in the last Quarter.\n",
      "dict_values([3.5, 4.2, 3.1])\n",
      "dict_keys(['october', 'november', 'december'])\n"
     ]
    }
   ],
   "source": [
    "#key exists in a dictionary\n",
    "rainfall = {\n",
    "    'october': 3.5,\n",
    "    'november': 4.2,\n",
    "    'december': 2.1\n",
    "}\n",
    "\n",
    "for key in rainfall.keys():\n",
    "    print(f'{key} : {rainfall[key]}cm')\n",
    "\n",
    "#Determine if a key exists in a dictionary\n",
    "if 'december' in rainfall:\n",
    "    rainfall['december'] += 1\n",
    "else:\n",
    "    rainfall['december'] = 1\n",
    "print(rainfall)\n",
    "\n",
    "#Retrieve all values\n",
    "total_rainfall = 0\n",
    "for value in rainfall.values():\n",
    "    total_rainfall = total_rainfall + value \n",
    "print(f'There was {total_rainfall}cm in the last Quarter.')\n",
    "\n",
    "#printing values\n",
    "print(rainfall.values())\n",
    "\n",
    "#printing keys\n",
    "print(rainfall.keys())\n"
   ]
  },
  {
   "cell_type": "markdown",
   "metadata": {},
   "source": [
    "functions"
   ]
  },
  {
   "cell_type": "code",
   "execution_count": 44,
   "metadata": {},
   "outputs": [
    {
     "data": {
      "text/plain": [
       "False"
      ]
     },
     "execution_count": 44,
     "metadata": {},
     "output_type": "execute_result"
    }
   ],
   "source": [
    "#Functions with no arguments\n",
    "def rocket_parts():\n",
    "    return (\"payload, propellant, structure\")\n",
    "\n",
    "output = rocket_parts()\n",
    "output #'payload, propellant, structure'\n",
    "\n",
    "#Required and optional arguments\n",
    "#any()\n",
    "any([False, False, False])\n",
    "# numbers = [3, 7, 9, 4, 11, 8]\n",
    "# result = any(num % 2 == 0 for num in numbers)\n",
    "# print(result)  # Output: True\n"
   ]
  },
  {
   "cell_type": "code",
   "execution_count": 46,
   "metadata": {},
   "outputs": [
    {
     "data": {
      "text/plain": [
       "'238,855'"
      ]
     },
     "execution_count": 46,
     "metadata": {},
     "output_type": "execute_result"
    }
   ],
   "source": [
    "# Use function arguments in Python\n",
    "def distance_from_earth(destination):\n",
    "    if destination == \"Moon\":\n",
    "        return \"238,855\"\n",
    "    else:\n",
    "        return \"Unable to compute to that desination\"\n",
    "destination = \"Moon\"\n",
    "distance_from_earth(destination)\n"
   ]
  },
  {
   "cell_type": "code",
   "execution_count": 48,
   "metadata": {},
   "outputs": [
    {
     "data": {
      "text/plain": [
       "354"
      ]
     },
     "execution_count": 48,
     "metadata": {},
     "output_type": "execute_result"
    }
   ],
   "source": [
    "#Functions as arguments\n",
    "def days_to_complete(distance, speed):\n",
    "    hours = distance/speed\n",
    "    return hours\n",
    "total_days = days_to_complete(26544, 75)\n",
    "round(total_days)"
   ]
  },
  {
   "cell_type": "code",
   "execution_count": 53,
   "metadata": {},
   "outputs": [
    {
     "name": "stdout",
     "output_type": "stream",
     "text": [
      "Fuel report:\n",
      "    Main tank:80\n",
      "    External tank:70\n",
      "    Hydrogen tank:75\n"
     ]
    }
   ],
   "source": [
    "# Create a report generation function\n",
    "def generation(main_task, External_tank, Hydrogen_task):\n",
    "    outout = f\"\"\"Fuel report:\n",
    "    Main tank:{main_task}\n",
    "    External tank:{External_tank}\n",
    "    Hydrogen tank:{Hydrogen_task}\"\"\"\n",
    "    print(outout)\n",
    "\n",
    "main_task = 80\n",
    "External_tank= 70\n",
    "Hydrogen_task = 75\n",
    "generation(main_task, External_tank, Hydrogen_task)"
   ]
  },
  {
   "cell_type": "code",
   "execution_count": 57,
   "metadata": {},
   "outputs": [
    {
     "data": {
      "text/plain": [
       "'Arrival: Friday 15:36'"
      ]
     },
     "execution_count": 57,
     "metadata": {},
     "output_type": "execute_result"
    }
   ],
   "source": [
    "#Use keyword arguments in Python\n",
    "from datetime import timedelta, datetime\n",
    "\n",
    "def arrival_time(hours = 51):\n",
    "    now = datetime.now()\n",
    "    arrival = now + timedelta(hours=hours)\n",
    "    return arrival.strftime(\"Arrival: %A %H:%M\")\n",
    "arrival_time(hours=1)"
   ]
  },
  {
   "cell_type": "code",
   "execution_count": 58,
   "metadata": {},
   "outputs": [
    {
     "data": {
      "text/plain": [
       "'Moon Arrival: Sunday 17 39'"
      ]
     },
     "execution_count": 58,
     "metadata": {},
     "output_type": "execute_result"
    }
   ],
   "source": [
    "#Mixing arguments and keyword arguments\n",
    "from datetime import timedelta, datetime\n",
    "\n",
    "def arrival_time(destination, hours = 51):\n",
    "    now = datetime.now()\n",
    "    arrival = now + timedelta(hours=hours)\n",
    "    return arrival.strftime(f\"{destination} Arrival: %A %H %M\")\n",
    "arrival_time(\"Moon\")"
   ]
  },
  {
   "cell_type": "markdown",
   "metadata": {},
   "source": [
    "Use variable arguments in Python"
   ]
  },
  {
   "cell_type": "code",
   "execution_count": 61,
   "metadata": {},
   "outputs": [
    {
     "name": "stdout",
     "output_type": "stream",
     "text": [
      "('one', 'two')\n",
      "()\n"
     ]
    }
   ],
   "source": [
    "#Variable arguments\n",
    "def variable_length(*args):\n",
    "    print(args)\n",
    "variable_length(\"one\",\"two\")#('one', 'two')\n"
   ]
  },
  {
   "cell_type": "code",
   "execution_count": 66,
   "metadata": {},
   "outputs": [
    {
     "data": {
      "text/plain": [
       "'Total time to launch is 30 minutes'"
      ]
     },
     "execution_count": 66,
     "metadata": {},
     "output_type": "execute_result"
    }
   ],
   "source": [
    "def sequence_time(*ar):\n",
    "    total_minutes = sum(ar)\n",
    "    if total_minutes < 60:\n",
    "        return f\"Total time to launch is {total_minutes} minutes\"\n",
    "    else:\n",
    "        return f\"Tital time to launch is {total_minutes/60} hours\"\n",
    "sequence_time(4,14,7,5)"
   ]
  },
  {
   "cell_type": "code",
   "execution_count": 71,
   "metadata": {},
   "outputs": [
    {
     "name": "stdout",
     "output_type": "stream",
     "text": [
      "{'tanks': 1, 'day': 'wednesday', 'pilots': 3}\n",
      "3 astronauts assigned for this mission:\n",
      "tanks: 1\n",
      "day: wednesday\n",
      "pilots: 3\n"
     ]
    }
   ],
   "source": [
    "#Variable keyword arguments\n",
    "def variable_length(**kargs):\n",
    "    print(kargs)\n",
    "    print(f'{len(kargs)} astronauts assigned for this mission:')\n",
    "    for title, name in kargs.items():\n",
    "        print(f\"{title}: {name}\")\n",
    "variable_length(tanks = 1, day = \"wednesday\", pilots = 3)"
   ]
  },
  {
   "cell_type": "markdown",
   "metadata": {},
   "source": [
    "Work with keyword arguments in functions"
   ]
  },
  {
   "cell_type": "code",
   "execution_count": 76,
   "metadata": {},
   "outputs": [
    {
     "name": "stdout",
     "output_type": "stream",
     "text": [
      "Hello\n",
      "main: 50\n",
      "external: 100\n",
      "emergency: 60\n"
     ]
    }
   ],
   "source": [
    "#Create an updated fuel report function\n",
    "\n",
    "def fuel_report(A, **fuel_tanks):\n",
    "    print(A)\n",
    "    for name, value in fuel_tanks.items():\n",
    "        print(f\"{name}: {value}\")\n",
    "fuel_report(\"Hello\", main = 50, external = 100, emergency = 60)\n",
    "    "
   ]
  },
  {
   "cell_type": "markdown",
   "metadata": {},
   "source": [
    "Use tracebacks to find errors\n"
   ]
  },
  {
   "cell_type": "code",
   "execution_count": null,
   "metadata": {},
   "outputs": [],
   "source": [
    "#Tracebacks\n"
   ]
  }
 ],
 "metadata": {
  "kernelspec": {
   "display_name": "Python 3",
   "language": "python",
   "name": "python3"
  },
  "language_info": {
   "codemirror_mode": {
    "name": "ipython",
    "version": 3
   },
   "file_extension": ".py",
   "mimetype": "text/x-python",
   "name": "python",
   "nbconvert_exporter": "python",
   "pygments_lexer": "ipython3",
   "version": "3.12.4"
  }
 },
 "nbformat": 4,
 "nbformat_minor": 2
}
