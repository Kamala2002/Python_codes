{
 "cells": [
  {
   "cell_type": "markdown",
   "metadata": {},
   "source": [
    "# Flask -> its creators as a \"micro-framework\"\n",
    "- it provides routing and templating"
   ]
  },
  {
   "cell_type": "markdown",
   "metadata": {},
   "source": [
    "# Create the project directory\n",
    "mkdir contoso\n",
    "cd contoso\n",
    "\n",
    "# go Back from created directory:\n",
    "cd..\n",
    "\n",
    "# Creating virtual environment\n",
    "python -m venv venv"
   ]
  },
  {
   "cell_type": "markdown",
   "metadata": {},
   "source": [
    "# Responding to user requests with routes\n",
    "ex: https://adventure-works.com/products/widget \n",
    "\n",
    " - domain (adventure-works.com in our example). Our application is put into action based on whatever comes after the domain name, starting with the /. The portion after the domain name is what's known as a route.\n",
    "\n",
    " # Methods or verbs\n",
    "-Routes can be accessed in many ways, through what are known as methods or verbs\n",
    "- comman methods GET and  POST.\n",
    "\n"
   ]
  },
  {
   "cell_type": "markdown",
   "metadata": {},
   "source": [
    "# Templates \n",
    " - using HTML, CSS\n",
    "\n",
    " # Jinja -> its a templating engine for python.tempplet in web frameworks like Flask and Django"
   ]
  },
  {
   "cell_type": "markdown",
   "metadata": {},
   "source": [
    "# Test the application command\n",
    "set FLASK_ENV = development\n",
    "\n",
    "# Run command\n",
    "flask run"
   ]
  },
  {
   "cell_type": "markdown",
   "metadata": {},
   "source": [
    "# KEy management \n",
    " -> development work is to use a library called python-dotenv \n",
    " -> dotenv -> create a file named .env, which contains any key/value pairs we don't want as part of our source code"
   ]
  },
  {
   "cell_type": "markdown",
   "metadata": {},
   "source": [
    "Q: What is the name of the HTTP header that carries API keys in calls to Azure AI services? \n",
    "Correct! Ocp-Apim-Subscription-Key is the name of the HTTP header that carries API keys in calls to Azure AI services."
   ]
  }
 ],
 "metadata": {
  "kernelspec": {
   "display_name": "Python 3",
   "language": "python",
   "name": "python3"
  },
  "language_info": {
   "codemirror_mode": {
    "name": "ipython",
    "version": 3
   },
   "file_extension": ".py",
   "mimetype": "text/x-python",
   "name": "python",
   "nbconvert_exporter": "python",
   "pygments_lexer": "ipython3",
   "version": "3.12.4"
  }
 },
 "nbformat": 4,
 "nbformat_minor": 2
}
